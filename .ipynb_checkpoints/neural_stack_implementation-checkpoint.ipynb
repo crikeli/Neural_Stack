{
 "cells": [
  {
   "cell_type": "code",
   "execution_count": 18,
   "metadata": {
    "collapsed": false
   },
   "outputs": [
    {
     "name": "stdout",
     "output_type": "stream",
     "text": [
      "1) Creating an empty stack of books\n",
      "2) Pushing two books onto the stack\n",
      "3) Let's see the stack so far...\n",
      "\n",
      "------TOP OF STACK-------\n",
      "Harry Potter and the Chamber of Secrets\n",
      "----------------\n",
      "Harry Potter & The Sorcerer's Stone\n",
      "----------------\n",
      "4) Let's POP\n",
      "POP-1:  Harry Potter and the Chamber of Secrets\n",
      "POP-2:  Harry Potter & The Sorcerer's Stone\n",
      "5) Stack after POPPING\n",
      "\n",
      "------TOP OF STACK-------\n",
      "----------------\n",
      "6) A few more pushes onto the stack\n",
      "7) Stack after all dat PUSHING\n",
      "\n",
      "------TOP OF STACK-------\n",
      "Harry Potter & The Deathly Hallows-2\n",
      "----------------\n",
      "Harry Potter & The Deathly Hallows-1\n",
      "----------------\n",
      "Harry Potter & The Order of the Phoenix\n",
      "----------------\n",
      "Harry Potter and the Goblet of Fire\n",
      "----------------\n",
      "Harry Potter & The Prisoner of Azkaban\n",
      "----------------\n"
     ]
    }
   ],
   "source": [
    "class SimpleStack:\n",
    "    def __init__(self):\n",
    "        self.contents = list()\n",
    "    def push(self, item):\n",
    "        self.contents.append(item)\n",
    "    def pop(self):\n",
    "        item = self.contents[-1]\n",
    "        self.contents = self.contents[:-1]\n",
    "        return item\n",
    "    \n",
    "    def pretty_print(self):\n",
    "        i = 1\n",
    "        print(\"\\n------TOP OF STACK-------\")\n",
    "        for item in (self.contents):\n",
    "            if(i != 1):\n",
    "                print(\"----------------\")\n",
    "            print(self.contents[-i])\n",
    "            i+=1\n",
    "        \n",
    "        print(\"----------------\")\n",
    "        \n",
    "print(\"1) Creating an empty stack of books\")\n",
    "stack = SimpleStack()\n",
    "\n",
    "print(\"2) Pushing two books onto the stack\")\n",
    "stack.push(\"Harry Potter & The Sorcerer's Stone\")\n",
    "stack.push(\"Harry Potter and the Chamber of Secrets\")\n",
    "\n",
    "print(\"3) Let's see the stack so far...\")\n",
    "stack.pretty_print()\n",
    "\n",
    "print(\"4) Let's POP\")\n",
    "print(\"POP-1: \",stack.pop())\n",
    "print(\"POP-2: \",stack.pop())\n",
    "\n",
    "print(\"5) Stack after POPPING\")\n",
    "stack.pretty_print()\n",
    "\n",
    "print(\"6) A few more pushes onto the stack\")\n",
    "stack.push(\"Harry Potter & The Prisoner of Azkaban\")\n",
    "stack.push(\"Harry Potter and the Goblet of Fire\")\n",
    "stack.push(\"Harry Potter & The Order of the Phoenix\")\n",
    "stack.push(\"Harry Potter & The Deathly Hallows-1\")\n",
    "stack.push(\"Harry Potter & The Deathly Hallows-2\")\n",
    "\n",
    "print(\"7) Stack after all dat PUSHING\")\n",
    "stack.pretty_print()"
   ]
  },
  {
   "cell_type": "code",
   "execution_count": null,
   "metadata": {
    "collapsed": true
   },
   "outputs": [],
   "source": []
  }
 ],
 "metadata": {
  "kernelspec": {
   "display_name": "Python 3",
   "language": "python",
   "name": "python3"
  },
  "language_info": {
   "codemirror_mode": {
    "name": "ipython",
    "version": 3
   },
   "file_extension": ".py",
   "mimetype": "text/x-python",
   "name": "python",
   "nbconvert_exporter": "python",
   "pygments_lexer": "ipython3",
   "version": "3.5.2"
  }
 },
 "nbformat": 4,
 "nbformat_minor": 2
}
