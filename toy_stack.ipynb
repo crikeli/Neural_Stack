{
 "cells": [
  {
   "cell_type": "code",
   "execution_count": 6,
   "metadata": {
    "collapsed": false
   },
   "outputs": [],
   "source": [
    "# A neural stack can learn to correctly accept a sequence of inputs, remember them,\n",
    "# and transorm them according to a pattern learnt from data.\n",
    "\n",
    "# How a Neural Stack Learns:\n",
    "# - Accepting input data, pushing & popping according to the patterns learnt by the NN\n",
    "# - Compares input + output data to account for the accuracy error\n",
    "# - Use backprop to update the Net into making more accurate predictions."
   ]
  },
  {
   "cell_type": "code",
   "execution_count": 7,
   "metadata": {
    "collapsed": false
   },
   "outputs": [
    {
     "name": "stdout",
     "output_type": "stream",
     "text": [
      "[ 0.8  0.   0. ]\n",
      "[ 0.5  0.5  0. ]\n",
      "[ 0.1  0.   0.9]\n",
      "\n",
      "Final Value of S:\n",
      "0.9\n",
      "0\n",
      "0.3\n",
      "\n",
      "Passed All Assertions!!!\n"
     ]
    }
   ],
   "source": [
    "import numpy as np\n",
    "\n",
    "stack_width = 3\n",
    "copy_length = 5\n",
    "\n",
    "v_0 = np.zeros(stack_width)\n",
    "v_0[0] = 1\n",
    "v_1 = np.zeros(stack_width)\n",
    "v_1[1] = 1\n",
    "v_2 = np.zeros(stack_width)\n",
    "v_2[2] = 1\n",
    "\n",
    "# INIT\n",
    "V = list() # stack states\n",
    "s = list() # stack strengths \n",
    "d = list() # push strengths\n",
    "u = list() # pop strengths\n",
    "\n",
    "def r_t(t):\n",
    "    # A zero stack of stack width 3\n",
    "    r_t_out = np.zeros(stack_width)\n",
    "    # going from range 0 to t+1(since we start t=0, we have to go up till t+1)\n",
    "    for i in xrange(0,t+1):\n",
    "        temp = min(s[t][i],max(0,1 - sum(s[t][i+1:t+1])))\n",
    "        r_t_out += temp * V[t][i]\n",
    "    return r_t_out\n",
    "    \n",
    "def s_t(i,t,u,d):\n",
    "    if(i >= 0 and i < t):\n",
    "        inner_sum = s[t-1][i+1:t]\n",
    "        return max(0,s[t-1][i] - max(0,u[t] - sum(inner_sum)))\n",
    "    elif(i == t):\n",
    "        return d[t]\n",
    "    else:\n",
    "        print(\"Undefined i -> t relationship\")\n",
    "\n",
    "def pushAndPop(v_t,d_t,u_t,t=len(V)):\n",
    "\n",
    "  d.append(d_t)\n",
    "  u.append(u_t)\n",
    "\n",
    "  new_s = np.zeros(t+1)\n",
    "  for i in xrange(t+1):\n",
    "      new_s[i] = s_t(i,t,u,d)\n",
    "  s.append(new_s)\n",
    "  \n",
    "  if(len(V) == 0):\n",
    "      V_t = np.zeros((1,stack_width))\n",
    "      V_t += v_t\n",
    "  else:\n",
    "      depth = len(V[-1])\n",
    "      V_t = np.zeros((depth+1,stack_width))\n",
    "      for i in xrange(depth):\n",
    "        V_t[i] += V[-1][i]\n",
    "      V_t[depth] += v_t\n",
    "  \n",
    "  V.append(V_t)\n",
    "  return r_t(t)\n",
    "\n",
    "print str(pushAndPop(v_0,0.8,0.0,0))\n",
    "print str(pushAndPop(v_1,0.5,0.1,1))\n",
    "print str(pushAndPop(v_2,0.9,0.9,2))\n",
    "\n",
    "# Stack is empty again\n",
    "V = list() # stack states\n",
    "s = list() # stack strengths \n",
    "d = list() # push strengths\n",
    "u = list() # pop strengths\n",
    "\n",
    "assert str(pushAndPop(v_0,0.8,0.0,0)) == str((0.8 * v_0))\n",
    "assert str(pushAndPop(v_1,0.5,0.1,1)) == str((0.5 * v_0) + (0.5 * v_1))\n",
    "assert str(pushAndPop(v_2,0.9,0.9,2)) == str((0.9 * v_2) + (0 * v_1) + (0.1 * v_0))\n",
    "\n",
    "print \"\\nFinal Value of S:\"\n",
    "for i in range(3):\n",
    "  print(s_t(2-i,2,u,d))\n",
    "\n",
    "print(\"\\nPassed All Assertions!!!\")"
   ]
  },
  {
   "cell_type": "code",
   "execution_count": 5,
   "metadata": {
    "collapsed": true
   },
   "outputs": [],
   "source": [
    "# We define a vector that is s_t(strength and it takes in the params):\n",
    "# i = the index of the row\n",
    "# t = the timestep\n",
    "# u = pop strength\n",
    "# d = push strength\n",
    "\n",
    "def s_t(i,t,u,d):\n",
    "    if(i >= 0 and i < t):\n",
    "        # This is the sum of the layer strengths between i+1 & t which is the top of the stack.\n",
    "        inner_sum = sum(s[t-1][i+1:t])\n",
    "        out = max(0, s[t-1][i] - max(0, u[t]-(inner_sum)))\n",
    "        return out\n",
    "    elif (i == t):\n",
    "        return d[t]\n",
    "    else:\n",
    "        print \"Undefined\""
   ]
  },
  {
   "cell_type": "code",
   "execution_count": null,
   "metadata": {
    "collapsed": true
   },
   "outputs": [],
   "source": []
  }
 ],
 "metadata": {
  "kernelspec": {
   "display_name": "Python 2",
   "language": "python",
   "name": "python2"
  },
  "language_info": {
   "codemirror_mode": {
    "name": "ipython",
    "version": 2
   },
   "file_extension": ".py",
   "mimetype": "text/x-python",
   "name": "python",
   "nbconvert_exporter": "python",
   "pygments_lexer": "ipython2",
   "version": "2.7.12"
  }
 },
 "nbformat": 4,
 "nbformat_minor": 2
}
